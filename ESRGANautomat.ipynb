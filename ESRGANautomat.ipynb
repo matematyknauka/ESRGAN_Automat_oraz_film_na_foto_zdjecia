{
  "nbformat": 4,
  "nbformat_minor": 0,
  "metadata": {
    "colab": {
      "provenance": [],
      "authorship_tag": "ABX9TyOlNo/pP0liK22Rze3gANJ/"
    },
    "kernelspec": {
      "name": "python3",
      "display_name": "Python 3"
    },
    "language_info": {
      "name": "python"
    }
  },
  "cells": [
    {
      "cell_type": "code",
      "execution_count": null,
      "metadata": {
        "id": "29PVZh7gM-MN"
      },
      "outputs": [],
      "source": [
        "from google.colab import drive\n",
        "drive.mount('/content/drive')\n",
        "%cd /content/drive/MyDrive/Colab Notebooks\n",
        "!git clone https://github.com/matematyknauka/ESRGAN.git\n",
        "%cd /content/drive/MyDrive/Colab Notebooks/ESRGAN\n",
        "!chmod +w /content/drive/MyDrive/Colab\\ Notebooks/ESRGAN/results/img/usunac.png\n",
        "!rm -rf /content/drive/MyDrive/Colab\\ Notebooks/ESRGAN/results/img/usunac.png\n",
        "!chmod +w /content/drive/MyDrive/Colab\\ Notebooks/ESRGAN/results/film/usunac.mp4\n",
        "!rm -rf /content/drive/MyDrive/Colab\\ Notebooks/ESRGAN/results/film/usunac.mp4\n",
        "!pip install opencv-python-headless torch torchvision moviepy pillow numpy\n",
        "!python image.py\n",
        "!python film.py"
      ]
    }
  ]
}
